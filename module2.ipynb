{
 "cells": [
  {
   "cell_type": "code",
   "execution_count": 1,
   "metadata": {},
   "outputs": [
    {
     "name": "stdout",
     "output_type": "stream",
     "text": [
      "5 Number is positive\n"
     ]
    }
   ],
   "source": [
    "# 1 write a python program to check if a number is positive, negative, or zero. \n",
    "a = int(input(\"Enter a Number: \"))\n",
    "if a > 0:\n",
    "    print(a,\"Number is positive\")\n",
    "elif a < 0:\n",
    "    print(a,\"Number is negative\")\n",
    "else:\n",
    "    print(a,\"Number is zero\")\n"
   ]
  },
  {
   "cell_type": "code",
   "execution_count": 5,
   "metadata": {},
   "outputs": [
    {
     "name": "stdout",
     "output_type": "stream",
     "text": [
      "6\n"
     ]
    }
   ],
   "source": [
    "# 2 Write a Python program to get the Factorial number of given number. \n",
    "num = int(input(\"enter a number: \"))\n",
    "factorial=1\n",
    "i=1\n",
    "while i<=num:\n",
    "    factorial=factorial*i\n",
    "    i=i+1\n",
    "print(factorial)"
   ]
  },
  {
   "cell_type": "code",
   "execution_count": 29,
   "metadata": {},
   "outputs": [
    {
     "name": "stdout",
     "output_type": "stream",
     "text": [
      "0\n",
      "1\n",
      "1\n",
      "2\n"
     ]
    }
   ],
   "source": [
    "# 3 Write a Python program to get the Fibonacci series of given range. \n",
    "n=int(input(\"enter a number:\"))\n",
    "a=0\n",
    "b=1\n",
    "print(a)\n",
    "print(b)\n",
    "i=1\n",
    "while i< n:\n",
    "    c=a+b\n",
    "    a=b\n",
    "    b=c\n",
    "    print(c)\n",
    "    i=i+1"
   ]
  },
  {
   "cell_type": "code",
   "execution_count": null,
   "metadata": {},
   "outputs": [],
   "source": [
    "# 4 How memory is managed in Python? \n",
    "# Answer-- Memory management in python involves a private heap containing all objects and data structures."
   ]
  },
  {
   "cell_type": "code",
   "execution_count": null,
   "metadata": {},
   "outputs": [],
   "source": [
    "# 5 What is the purpose continue statement in python? \n",
    "# Answer-- Execute the next iteration of the loop while skipping the rest of the code inside the loop for\n",
    "#    the current iteration only."
   ]
  },
  {
   "cell_type": "code",
   "execution_count": 8,
   "metadata": {},
   "outputs": [
    {
     "name": "stdout",
     "output_type": "stream",
     "text": [
      "10\n",
      "5\n"
     ]
    }
   ],
   "source": [
    "# 6  Write python program that swap two number with temp variable and without temp variable. \n",
    "a=5\n",
    "b=10\n",
    "#a,b=b,a\n",
    "#print(a)\n",
    "#print(b)\n",
    "temp=a\n",
    "a=b\n",
    "b=temp\n",
    "print(a)\n",
    "print(b)\n",
    "\n",
    "\n",
    "\n"
   ]
  },
  {
   "cell_type": "code",
   "execution_count": 22,
   "metadata": {},
   "outputs": [
    {
     "name": "stdout",
     "output_type": "stream",
     "text": [
      "number is negative\n"
     ]
    }
   ],
   "source": [
    "# 7 Write a Python program to find whether a given number is even or odd, print out an appropriate message to the user. \n",
    "n=int(input(\"enter a number: \"))\n",
    "if n==0:\n",
    "    print(\"number is zero\")\n",
    "if n<0:\n",
    "    print(\"number is negative\")\n",
    "elif n%2==0:\n",
    "    print(n ,\" is even\")\n",
    "else:\n",
    "    print(n,\"is odd\")"
   ]
  },
  {
   "cell_type": "code",
   "execution_count": 14,
   "metadata": {},
   "outputs": [
    {
     "name": "stdout",
     "output_type": "stream",
     "text": [
      "d is a constants\n"
     ]
    }
   ],
   "source": [
    "# 8 Write a Python program to test whether a passed letter is a vowel or not. \n",
    "ch=(input(\"enter alphabet\"))\n",
    "if ch in( 'a','e','i','o','u','A','E','I','O','U'):\n",
    "    print(ch,\"is a vowel\")\n",
    "else:\n",
    "    print(ch,\"is a constants\")"
   ]
  },
  {
   "cell_type": "code",
   "execution_count": 16,
   "metadata": {},
   "outputs": [
    {
     "name": "stdout",
     "output_type": "stream",
     "text": [
      "18\n"
     ]
    }
   ],
   "source": [
    "# 9 Write a Python program to sum of three given integers. However, if two values are equal sum will be zero. \n",
    "x=int(input(\"enter a number: \"))\n",
    "y=int(input(\"enter a number: \"))\n",
    "z=int(input(\"enter a number: \"))\n",
    "if x==y or y==z or x==z:\n",
    "    print(0)\n",
    "else:\n",
    "    print(x+y+z)\n",
    "    \n"
   ]
  },
  {
   "cell_type": "code",
   "execution_count": 18,
   "metadata": {},
   "outputs": [
    {
     "name": "stdout",
     "output_type": "stream",
     "text": [
      "False\n"
     ]
    }
   ],
   "source": [
    "# 10 Write a Python program that will return true if the two given integer values are equal or their sum or difference is 5. \n",
    "a=int(input(\"enter a number\"))\n",
    "b=int(input(\"enter a number\"))\n",
    "if a==5 or b==5:\n",
    "    print(\"True\")\n",
    "elif a+b==5 or a-b==5:\n",
    "    print(\"True\")\n",
    "else:\n",
    "    print(\"False\")"
   ]
  },
  {
   "cell_type": "code",
   "execution_count": 19,
   "metadata": {},
   "outputs": [
    {
     "name": "stdout",
     "output_type": "stream",
     "text": [
      "15.0\n"
     ]
    }
   ],
   "source": [
    "# 11  Write a python program to sum of the first n positive integers. \n",
    "n= int(input(\"enter a number\"))\n",
    "total=n*(n+1)/2\n",
    "print(total)"
   ]
  },
  {
   "cell_type": "code",
   "execution_count": 26,
   "metadata": {},
   "outputs": [
    {
     "name": "stdout",
     "output_type": "stream",
     "text": [
      "5\n"
     ]
    }
   ],
   "source": [
    "# 12 Write a Python program to calculate the length of a string. \n",
    "n=input(\"enter value\")\n",
    "print(len(n))"
   ]
  },
  {
   "cell_type": "code",
   "execution_count": 2,
   "metadata": {},
   "outputs": [
    {
     "name": "stdout",
     "output_type": "stream",
     "text": [
      "5\n"
     ]
    }
   ],
   "source": [
    "# 13 Write a Python program to count the number of characters (character frequency) in a string.\n",
    "n=input(\"enter value\")\n",
    "r=input(\"enter var for count: \")\n",
    "print(n.count(r))"
   ]
  },
  {
   "cell_type": "code",
   "execution_count": null,
   "metadata": {},
   "outputs": [],
   "source": [
    "# 14 What are negative indexes and why are they used? \n",
    "# -- to remove any new-- line spaces from the string and allow the string to except the last character \n",
    "# that is given as S[:-2].\n"
   ]
  },
  {
   "cell_type": "code",
   "execution_count": 1,
   "metadata": {},
   "outputs": [
    {
     "name": "stdout",
     "output_type": "stream",
     "text": [
      "2\n"
     ]
    }
   ],
   "source": [
    "# 15 Write a Python program to count occurrences of a substring in a string. \n",
    "string=input(\"write a somthing: \")\n",
    "substring=input(\"find the string\")\n",
    "print(string.count(substring))"
   ]
  },
  {
   "cell_type": "code",
   "execution_count": 5,
   "metadata": {},
   "outputs": [
    {
     "name": "stdout",
     "output_type": "stream",
     "text": [
      "{}\n"
     ]
    }
   ],
   "source": [
    "#16 Write a Python program to count the occurrences of each word in a given sentence.\n",
    "\n",
    "\n",
    "\n"
   ]
  },
  {
   "cell_type": "code",
   "execution_count": 5,
   "metadata": {},
   "outputs": [
    {
     "name": "stdout",
     "output_type": "stream",
     "text": [
      "amvi raol\n"
     ]
    }
   ],
   "source": [
    "# 17 Write a Python program to get a single string from two given strings, \n",
    "# separated by a space and swap the first two characters of each string.\n",
    "str1=input(\"write first line: \")\n",
    "str2=input(\"write second line: \")\n",
    "x=str1[0:2]\n",
    "str1=str1.replace(str1[0:2],str2[0:2])\n",
    "str2=str2.replace(str2[0:2],x)\n",
    "w=\" \".join([str1,str2])\n",
    "print(w)\n",
    "\n",
    "\n",
    " "
   ]
  },
  {
   "cell_type": "code",
   "execution_count": 15,
   "metadata": {},
   "outputs": [
    {
     "name": "stdout",
     "output_type": "stream",
     "text": [
      "racingly\n"
     ]
    }
   ],
   "source": [
    "# 18  Write a Python program to add 'ing' at the end of a given string (length should be at least 3). \n",
    "# If the given string already ends with 'ing' then add 'ly' instead if the string length of the given string is less than 3,\n",
    "# leave it unchanged. \n",
    "str1=input(\"enter a something\")\n",
    "length=len(str1)\n",
    "if length > 2:\n",
    "    if str1[-3:]=='ing':\n",
    "        print(str1+\"ly\")\n",
    "    else:\n",
    "        print(str1+\"ing\")\n",
    "else:\n",
    "    print(str1)        \n",
    "\n",
    "        \n",
    "                    \n",
    "    "
   ]
  },
  {
   "cell_type": "code",
   "execution_count": 46,
   "metadata": {},
   "outputs": [
    {
     "name": "stdout",
     "output_type": "stream",
     "text": [
      "index of n :  7\n",
      "index of p :  -1\n",
      "\n",
      "ravid  not jss poor \n"
     ]
    }
   ],
   "source": [
    "# 19 Write a Python program to find the first appearance of the substring 'not' and 'poor' from a given string,\n",
    "# if 'not' follows the 'poor', replace the whole 'not'...'poor' substring with 'good'. Return the resulting string. \n",
    "# str1=input(\"enter something: \")\n",
    "notIn=str1.find(\"not\")\n",
    "poorIn=str1.find(\"Poor\")\n",
    "print(\"index of n : \" , notIn)\n",
    "print(\"index of p : \" , poorIn)\n",
    "\n",
    "rep=str1[notIn  : poorIn + 4]\n",
    "\n",
    "if(notIn < poorIn ):\n",
    "    a=str1.replace(rep,\"good\")\n",
    "    print()\n",
    "    print(a)\n",
    "else:\n",
    "    print()\n",
    "    print(str1)\n",
    "\n"
   ]
  },
  {
   "cell_type": "code",
   "execution_count": 21,
   "metadata": {},
   "outputs": [
    {
     "name": "stdout",
     "output_type": "stream",
     "text": [
      "longest world ksoosmsj\n"
     ]
    }
   ],
   "source": [
    "# 20 Write a Python function that takes a list of words and returns the length of the longest one. \n",
    "w=(input(\"enter a list:\"))\n",
    "x=w.split()\n",
    "longest_word=0\n",
    "for i in x:\n",
    "    if i.isalpha and len(i)> longest_word:\n",
    "        longest_word=len(i)\n",
    "        x=i\n",
    "print(\"longest world\",x)"
   ]
  },
  {
   "cell_type": "code",
   "execution_count": 26,
   "metadata": {},
   "outputs": [
    {
     "name": "stdout",
     "output_type": "stream",
     "text": [
      "lomaivar\n"
     ]
    }
   ],
   "source": [
    "# 21\tWrite a Python function to reverses a string if its length is a multiple of 4. \n",
    "str_1= input(\"enter something:\")\n",
    "length=len(str_1)\n",
    "if length%4==0:\n",
    "    print(str_1[::-1]) \n",
    "else:\n",
    "    print(str_1)\n",
    "\n"
   ]
  },
  {
   "cell_type": "code",
   "execution_count": 39,
   "metadata": {},
   "outputs": [
    {
     "name": "stdout",
     "output_type": "stream",
     "text": [
      "w3ce\n"
     ]
    }
   ],
   "source": [
    "#22 Write a Python program to get a string made of the first 2 and the last 2 chars from a given a string. \n",
    "# If the string length is less than 2, return instead of the empty string. \n",
    "#o Sample String: w3resource' o Expected Result: 'w3ce' \n",
    "# o Sample String: 'w3'   o Expected Result: 'w3w3'\n",
    "# o Sample String: ' w' o Expected Result: Empty String \n",
    "str1=input(\"enter some thing: \")\n",
    "sar_1=len(str1)\n",
    "x=str1[0:2]\n",
    "y=str1[-2::]\n",
    "\n",
    "if sar_1 < 2:\n",
    "    print(\"Empty string\")\n",
    "else:\n",
    "    print(x+y)\n",
    "\n",
    "    \n",
    "\n",
    "\n",
    "\n"
   ]
  },
  {
   "cell_type": "code",
   "execution_count": null,
   "metadata": {},
   "outputs": [],
   "source": [
    "\n",
    "\n"
   ]
  }
 ],
 "metadata": {
  "kernelspec": {
   "display_name": "Python 3.10.5 32-bit",
   "language": "python",
   "name": "python3"
  },
  "language_info": {
   "codemirror_mode": {
    "name": "ipython",
    "version": 3
   },
   "file_extension": ".py",
   "mimetype": "text/x-python",
   "name": "python",
   "nbconvert_exporter": "python",
   "pygments_lexer": "ipython3",
   "version": "3.10.5"
  },
  "orig_nbformat": 4,
  "vscode": {
   "interpreter": {
    "hash": "17999a8378a35389798968e93db08ea75eb5d1a70e903bcba9755769bbb8bc7a"
   }
  }
 },
 "nbformat": 4,
 "nbformat_minor": 2
}
