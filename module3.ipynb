{
 "cells": [
  {
   "cell_type": "code",
   "execution_count": null,
   "metadata": {},
   "outputs": [],
   "source": [
    "#• \tWhat is List? How will you reverse a list? \n"
   ]
  },
  {
   "cell_type": "code",
   "execution_count": null,
   "metadata": {},
   "outputs": [],
   "source": [
    "#• \tHow will you remove last object from a list? \n"
   ]
  },
  {
   "cell_type": "code",
   "execution_count": null,
   "metadata": {},
   "outputs": [],
   "source": [
    "#• \tSuppose list1 is [2, 33, 222, 14, and 25], what is list1 [-1]? \n"
   ]
  },
  {
   "cell_type": "code",
   "execution_count": null,
   "metadata": {},
   "outputs": [],
   "source": [
    "#• \tDifferentiate between append () and extend () methods? \n"
   ]
  },
  {
   "cell_type": "code",
   "execution_count": null,
   "metadata": {},
   "outputs": [],
   "source": [
    "# Write a Python function to get the largest number, smallest num and sum of all from a list. \n",
    "a=[]\n",
    "num=int(input(\"enter how long your list: \"))\n",
    "for i in range(num):\n",
    "    numbers=int(input(\"enter a list value: \"))\n",
    "    a.append(numbers)\n",
    "print(a)\n",
    "a.sort()\n",
    "print(\"smallest number:\",a[0])\n",
    "print(\"largest number:\",a[-1])\n",
    "sum=0\n",
    "for val in a:\n",
    "    sum=sum+val\n",
    "print(sum)\n",
    "    \n",
    "\n",
    "        \n",
    "\n",
    "\n"
   ]
  },
  {
   "cell_type": "code",
   "execution_count": null,
   "metadata": {},
   "outputs": [],
   "source": [
    "# How will you compare two lists? "
   ]
  },
  {
   "cell_type": "code",
   "execution_count": null,
   "metadata": {},
   "outputs": [],
   "source": [
    "#• \tWrite a Python program to count the number of strings where the string length is 2 or\n",
    "# more and the first and last character are same from a given list of strings. \n",
    "\n",
    "\n"
   ]
  },
  {
   "cell_type": "code",
   "execution_count": null,
   "metadata": {},
   "outputs": [],
   "source": [
    "# Write a Python program to remove duplicates from a list. \n",
    "a=[2,5,2,45,15,36,78,45]\n",
    "final_list=[]\n",
    "for i in a:\n",
    "    if i not in final_list:\n",
    "        final_list.append(i)\n",
    "print(final_list)\n",
    "\n"
   ]
  },
  {
   "cell_type": "code",
   "execution_count": null,
   "metadata": {},
   "outputs": [],
   "source": [
    "# Write a Python program to check a list is empty or not. \n"
   ]
  },
  {
   "cell_type": "code",
   "execution_count": null,
   "metadata": {},
   "outputs": [],
   "source": [
    "# Write a Python function that takes two lists and returns true if they have at least one common member. \n",
    "a=[1,2,3,4]\n",
    "b=[5,8,76,9]\n",
    "for i in (a):\n",
    "    for j in (b):\n",
    "        if (i ==j):\n",
    "            print(\"True\")\n",
    "            continue\n",
    "        "
   ]
  },
  {
   "cell_type": "code",
   "execution_count": null,
   "metadata": {},
   "outputs": [],
   "source": [
    "# Write a Python program to generate and print a list of first and last 5 elements where\n",
    "# the values are square of numbers between 1 and 30. "
   ]
  },
  {
   "cell_type": "code",
   "execution_count": null,
   "metadata": {},
   "outputs": [],
   "source": [
    "# Write a Python function that takes a list and returns a new list with unique elements of the first list. "
   ]
  },
  {
   "cell_type": "code",
   "execution_count": null,
   "metadata": {},
   "outputs": [],
   "source": [
    "# \tWrite a Python program to convert a list of characters into a string. \n",
    "def val (a):\n",
    "    b=\"\"\n",
    "    for i in a:\n",
    "        b +=i\n",
    "    return b\n",
    "a=[\"d\",\"g\",\"e\",\"f\",\"k\"]\n",
    "print(val(a))\n",
    "\n",
    "        "
   ]
  },
  {
   "cell_type": "code",
   "execution_count": null,
   "metadata": {},
   "outputs": [],
   "source": [
    "# Write a Python program to select an item randomly from a list. \n"
   ]
  },
  {
   "cell_type": "code",
   "execution_count": null,
   "metadata": {},
   "outputs": [],
   "source": [
    "# Write a Python program to find the second smallest number in a list. \n",
    "a=[8,7,9,4,8,5,6,7,8]\n",
    "min_val=(min(a))\n",
    "a.remove(min_val)\n",
    "print(min(a))"
   ]
  },
  {
   "cell_type": "code",
   "execution_count": null,
   "metadata": {},
   "outputs": [],
   "source": [
    "# Write a Python program to get unique values from a list \n"
   ]
  },
  {
   "cell_type": "code",
   "execution_count": null,
   "metadata": {},
   "outputs": [],
   "source": [
    "# Write a Python program to check whether a list contains a sub list \n"
   ]
  },
  {
   "cell_type": "code",
   "execution_count": null,
   "metadata": {},
   "outputs": [],
   "source": [
    "# Write a Python program to split a list into different variables. "
   ]
  },
  {
   "cell_type": "code",
   "execution_count": null,
   "metadata": {},
   "outputs": [],
   "source": [
    "# What is tuple? Difference between list and tuple. \n"
   ]
  },
  {
   "cell_type": "code",
   "execution_count": null,
   "metadata": {},
   "outputs": [],
   "source": [
    "#Write a Python program to create a tuple with different data types.\n",
    "a=(True,(4,5,8),[4,5,6],47,{5,6,7,8,5},{\"A\":8,\"c\":9},8.6)\n",
    "print(a)"
   ]
  },
  {
   "cell_type": "code",
   "execution_count": null,
   "metadata": {},
   "outputs": [],
   "source": [
    "# Write a Python program to create a tuple with numbers. \n"
   ]
  },
  {
   "cell_type": "code",
   "execution_count": null,
   "metadata": {},
   "outputs": [],
   "source": [
    "# Write a Python program to convert a tuple to a string. \n",
    "def val (a):\n",
    "    b=\"\"\n",
    "    for i in a:\n",
    "        b +=i\n",
    "    return b\n",
    "a=(\"d\",\"g\",\"e\",\"f\",\"k\")\n",
    "print(val(a))"
   ]
  },
  {
   "cell_type": "code",
   "execution_count": null,
   "metadata": {},
   "outputs": [],
   "source": [
    "# Write a Python program to check whether an element exists within a tuple. \n"
   ]
  },
  {
   "cell_type": "code",
   "execution_count": null,
   "metadata": {},
   "outputs": [],
   "source": [
    "#• \tWrite a Python program to find the length of a tuple. \n"
   ]
  },
  {
   "cell_type": "code",
   "execution_count": null,
   "metadata": {},
   "outputs": [],
   "source": [
    "# \tWrite a Python program to convert a list to a tuple. \n",
    "a=[4,5,8,7,9,6,42]\n",
    "b=tuple(a)\n",
    "print(b)\n"
   ]
  },
  {
   "cell_type": "code",
   "execution_count": null,
   "metadata": {},
   "outputs": [],
   "source": [
    "#• \tWrite a Python program to reverse a tuple. \n",
    "a=(11,12,13,14,15)\n",
    "for i in range (len(a)-1,-1,-1):\n",
    "    print(a[i],end=\" \")\n",
    "\n",
    "    "
   ]
  },
  {
   "cell_type": "code",
   "execution_count": null,
   "metadata": {},
   "outputs": [],
   "source": [
    "#\tWrite a Python program to replace last value of tuples in a list. \n"
   ]
  },
  {
   "cell_type": "code",
   "execution_count": null,
   "metadata": {},
   "outputs": [],
   "source": [
    "# Write a Python program to find the repeated items of a tuple. \n",
    "a=(4,5,7,8,5,7,6)\n",
    "b=[]\n",
    "for i in (a):\n",
    "    if (a.count(i) > 1):\n",
    "        if i not in b: \n",
    "            b.append(i)\n",
    "for i in b:\n",
    "    print(i,end=\" \")\n",
    "    \n",
    "        \n",
    "    "
   ]
  },
  {
   "cell_type": "code",
   "execution_count": null,
   "metadata": {},
   "outputs": [],
   "source": [
    "#• \tWrite a Python program to remove an empty tuple(s) from a list of tuples. \n"
   ]
  },
  {
   "cell_type": "code",
   "execution_count": null,
   "metadata": {},
   "outputs": [],
   "source": [
    "# \tWrite a Python program to unzip a list of tuples into individual lists. \n",
    "            "
   ]
  },
  {
   "cell_type": "code",
   "execution_count": null,
   "metadata": {},
   "outputs": [],
   "source": [
    "# \tWrite a Python program to convert a list of tuples into a dictionary. \n",
    "a=[(\"a\",8),(\"b\",6),(\"c\",1),(\"d\",5)]\n",
    "def li_st(a):\n",
    "    return dict(a)\n",
    "a=[(\"a\",8),(\"b\",6),(\"c\",1),(\"d\",5)]\n",
    "print(li_st(a))\n"
   ]
  },
  {
   "cell_type": "code",
   "execution_count": 6,
   "metadata": {},
   "outputs": [
    {
     "name": "stdout",
     "output_type": "stream",
     "text": [
      "[('a', 8), ('b', 6), ('c', 1), ('d', 5)]\n"
     ]
    }
   ],
   "source": [
    "#\tHow will you create a dictionary using tuples in python? \n"
   ]
  },
  {
   "cell_type": "code",
   "execution_count": null,
   "metadata": {},
   "outputs": [],
   "source": [
    "# Write a Python script to sort (ascending and descending) a dictionary by value.\n",
    "a={'a': 8, 'b': 6, 'c': 1, 'd': 5}\n",
    "b=list(a.items())\n",
    "def x(c):\n",
    "    return c[-1]\n",
    "c=b.sort(key=x)\n",
    "print(dict(b))\n"
   ]
  },
  {
   "cell_type": "code",
   "execution_count": null,
   "metadata": {},
   "outputs": [],
   "source": [
    "# Write a Python script to concatenate following dictionaries to create a new one. \n",
    "a={\"a\":1,\"b\":2,\"c\":3}\n",
    "b={\"f\":12,\"h\":19,\"l\":14}\n",
    "a.update(b)\n",
    "print(a)"
   ]
  },
  {
   "cell_type": "code",
   "execution_count": 4,
   "metadata": {},
   "outputs": [
    {
     "name": "stdout",
     "output_type": "stream",
     "text": [
      "value is \n",
      " value 2\n"
     ]
    }
   ],
   "source": [
    "# Write a Python script to check if a given key already exists in a dictionary. \n",
    "a={\"a\":1,\"b\":2,\"c\":3,\"f\":12,\"h\":19,\"f\":14}\n",
    "i=(input(\"enter\"))\n",
    "if i in a:\n",
    "    print(f\"value is \\n value\",a[i])\n",
    "    \n",
    "        \n",
    "\n"
   ]
  },
  {
   "cell_type": "code",
   "execution_count": null,
   "metadata": {},
   "outputs": [],
   "source": [
    "# \tHow Do You Traverse Through A Dictionary Object In Python? "
   ]
  },
  {
   "cell_type": "code",
   "execution_count": null,
   "metadata": {},
   "outputs": [],
   "source": [
    "# \tHow Do You Check The Presence Of A Key In A Dictionary? \n"
   ]
  },
  {
   "cell_type": "code",
   "execution_count": null,
   "metadata": {},
   "outputs": [],
   "source": [
    "# Write a Python script to print a dictionary where the keys are numbers between 1 and 15. "
   ]
  },
  {
   "cell_type": "code",
   "execution_count": null,
   "metadata": {},
   "outputs": [],
   "source": [
    "#• \tWrite a Python program to check multiple keys exists in a dictionary.\n"
   ]
  },
  {
   "cell_type": "code",
   "execution_count": 1,
   "metadata": {},
   "outputs": [
    {
     "name": "stdout",
     "output_type": "stream",
     "text": [
      "{'a': 100, 'b': 200, 'c': 300, 'k': 300, 'l': 200, 'd': 400}\n"
     ]
    }
   ],
   "source": [
    "# • \tWrite a Python script to merge two Python dictionaries \n",
    "d1 = {'a': 100, 'b': 200, 'c':300} \n",
    "d2 = {'k': 300, 'l': 200,'d':400} \n",
    "d1.update(d2)\n",
    "print(d1)\n",
    "\n",
    "\n"
   ]
  },
  {
   "cell_type": "code",
   "execution_count": null,
   "metadata": {},
   "outputs": [],
   "source": [
    "#\tWrite a Python program to map two lists into a dictionary "
   ]
  },
  {
   "cell_type": "code",
   "execution_count": null,
   "metadata": {},
   "outputs": [],
   "source": [
    "#Write a Python program to combine two dictionary adding values for common keys. \n",
    "# d1 = {'a': 100, 'b': 200, 'c':300} o d2 = {'a': 300, 'b': 200,’d’:400} \n",
    "# Sample output: Counter ({'a': 400, 'b': 400,’d’: 400, 'c': 300}). \n",
    "d1 = {'a': 100, 'b': 200, 'c':300} \n",
    "d2 = {'a': 300, 'b': 200,'d':400} \n",
    "for i in d2:\n",
    "    if i in d1:\n",
    "        d1[i]=d1[i]+d2[i]\n",
    "    else:\n",
    "        d1[i]=d2[i]\n",
    "print(d1)\n",
    "        \n",
    "           "
   ]
  },
  {
   "cell_type": "code",
   "execution_count": null,
   "metadata": {},
   "outputs": [],
   "source": [
    "#\tWrite a Python program to print all unique values in a dictionary. \n",
    "a={'a': 400, 'b': 400, 'c': 300, 'd': 400}\n",
    "b=[]\n",
    "for i in a.values():\n",
    "    if i not in b:\n",
    "        b.append(i)\n",
    "    else:\n",
    "        pass\n",
    "print(b)\n",
    "            "
   ]
  },
  {
   "cell_type": "code",
   "execution_count": null,
   "metadata": {},
   "outputs": [],
   "source": [
    "#  \tWhy Do You Use the Zip () Method in Python? \n",
    "\n"
   ]
  },
  {
   "cell_type": "code",
   "execution_count": null,
   "metadata": {},
   "outputs": [],
   "source": [
    "#Write a Python program to create and display all combinations of letters, selecting each letter from a different key in a dictionary. \n",
    "# Sample data: {'1': ['a','b'], '2': ['c','d']} \n",
    "# o Expected Output: ac ad bc bd \n",
    "a={'1': ['a','b'], '2': ['c','d']} \n",
    "b=list(a.values())\n",
    "for i in b[0]:\n",
    "    for j in b[1]:\n",
    "        print(i+j)\n",
    "\n",
    "\n",
    "    \n",
    "    \n",
    "    "
   ]
  },
  {
   "cell_type": "code",
   "execution_count": null,
   "metadata": {},
   "outputs": [],
   "source": [
    "#• \tWrite a Python program to find the highest 3 values in a dictionary \n",
    "a={'a': 30, 'b': 60, 'c': 800, 'd': 1000}\n",
    "b=(sorted(list(a.values())))\n",
    "print(b[-3:])\n",
    "    "
   ]
  },
  {
   "cell_type": "code",
   "execution_count": null,
   "metadata": {},
   "outputs": [],
   "source": [
    "#Write a Python program to combine values in python list of dictionaries. \n",
    "#Sample data: [{'item': 'item1', 'amount': 400}, {'item': 'item2', 'amount': \n",
    "#300}, {'item': 'item1', 'amount': 750}] \n",
    "#o Expected Output: Counter ({'item1': 1150, 'item2': 300})\n",
    "a=[{'item': 'item1', 'amount': 400}, {'item': 'item2', 'amount': 300}, {'item': 'item1', 'amount': 750}] \n",
    "b={}\n",
    "item1=0\n",
    "item2=0\n",
    "for i in a:\n",
    "    if i['item']=='item1':\n",
    "        item1+=int(i['amount'])\n",
    "    else:\n",
    "        item2+=int(i['amount'])\n",
    "\n",
    "\n",
    " \n"
   ]
  },
  {
   "cell_type": "code",
   "execution_count": 1,
   "metadata": {},
   "outputs": [
    {
     "name": "stdout",
     "output_type": "stream",
     "text": [
      "{'w': 1, '3': 1, 'r': 2, 'e': 2, 's': 1, 'o': 1, 'u': 1, 'c': 1}\n"
     ]
    }
   ],
   "source": [
    "# \tWrite a Python program to create a dictionary from a string. \n",
    "#\tNote: Track the count of the letters from the string. Sample string:\n",
    "a= 'w3resource' \n",
    "#\tExpected output: {'3': 1,’s’: 1, 'r': 2, 'u': 1, 'w': 1, 'c': 1, 'e': 2, 'o': 1} \n",
    "dic={}\n",
    "for i in a:\n",
    "    dic[i]=a.count(i)\n",
    "print(dic)\n",
    "    "
   ]
  },
  {
   "cell_type": "code",
   "execution_count": 4,
   "metadata": {},
   "outputs": [
    {
     "name": "stdout",
     "output_type": "stream",
     "text": [
      "6\n"
     ]
    }
   ],
   "source": [
    "# Write a Python function to calculate the factorial of a number (a nonnegative integer) \n",
    "def factorial(n):\n",
    "    if n < 1:\n",
    "        return 0\n",
    "    elif n==0 or n==1:\n",
    "        return 1\n",
    "    else:\n",
    "        fact=1\n",
    "        while n > 1:\n",
    "            fact=fact*n\n",
    "            n=n-1\n",
    "        return fact\n",
    "n=3\n",
    "print(factorial(n))\n",
    "    \n",
    "        "
   ]
  },
  {
   "cell_type": "code",
   "execution_count": null,
   "metadata": {},
   "outputs": [],
   "source": [
    "# Write a Python function to check whether a number is in a given range "
   ]
  },
  {
   "cell_type": "code",
   "execution_count": 10,
   "metadata": {},
   "outputs": [
    {
     "name": "stdout",
     "output_type": "stream",
     "text": [
      "True\n"
     ]
    }
   ],
   "source": [
    "# \tWrite a Python function to check whether a number is perfect or not.\n",
    "def per_num(a):\n",
    "    sum=0\n",
    "    for i in range(1,a):\n",
    "        if a%i==0:\n",
    "            sum+=i\n",
    "    return sum==a\n",
    "print(per_num(6))\n",
    "\n",
    "\n",
    "        \n",
    "        \n"
   ]
  },
  {
   "cell_type": "code",
   "execution_count": 3,
   "metadata": {},
   "outputs": [
    {
     "name": "stdout",
     "output_type": "stream",
     "text": [
      "string is palindrome\n"
     ]
    }
   ],
   "source": [
    " # Write a Python function that checks whether a passed string is palindrome or not \n",
    "def pali(a):\n",
    "b=a[-1::-1]\n",
    "if a==b:\n",
    "    print(\"string is palindrome\")\n",
    "else:\n",
    "    print(\"string is not palindrome\")\n",
    " \n",
    " "
   ]
  },
  {
   "cell_type": "code",
   "execution_count": 8,
   "metadata": {},
   "outputs": [
    {
     "name": "stdout",
     "output_type": "stream",
     "text": [
      "[0, 4, 7, 8, 10]\n"
     ]
    }
   ],
   "source": [
    "#\tHow do you perform pattern matching in Python? Explain \n",
    "\n",
    "    "
   ]
  },
  {
   "cell_type": "code",
   "execution_count": null,
   "metadata": {},
   "outputs": [],
   "source": [
    "# What is lambda function in python? What we call a function which is incomplete version of a function?       \n",
    "     \n",
    "    "
   ]
  },
  {
   "cell_type": "code",
   "execution_count": 14,
   "metadata": {},
   "outputs": [
    {
     "name": "stdout",
     "output_type": "stream",
     "text": [
      "[('a', 6), ('f', 9), ('b', 10), ('c', 1), ('d', 5), ('j', 11), ('k', 8), ('l', 4)]\n"
     ]
    }
   ],
   "source": [
    "# \tHow Many Basic Types Of Functions Are Available In Python? "
   ]
  },
  {
   "cell_type": "code",
   "execution_count": null,
   "metadata": {},
   "outputs": [],
   "source": []
  }
 ],
 "metadata": {
  "kernelspec": {
   "display_name": "Python 3.10.5 32-bit",
   "language": "python",
   "name": "python3"
  },
  "language_info": {
   "codemirror_mode": {
    "name": "ipython",
    "version": 3
   },
   "file_extension": ".py",
   "mimetype": "text/x-python",
   "name": "python",
   "nbconvert_exporter": "python",
   "pygments_lexer": "ipython3",
   "version": "3.10.5"
  },
  "orig_nbformat": 4,
  "vscode": {
   "interpreter": {
    "hash": "17999a8378a35389798968e93db08ea75eb5d1a70e903bcba9755769bbb8bc7a"
   }
  }
 },
 "nbformat": 4,
 "nbformat_minor": 2
}
